{
 "cells": [
  {
   "cell_type": "code",
   "execution_count": null,
   "id": "67d5895f",
   "metadata": {},
   "outputs": [],
   "source": [
    "import pandas as pd\n",
    "import numpy as np\n",
    "import seaborn as sns\n",
    "import matplotlib.pyplot as plt\n",
    "\n",
    "# IMPORT DATA\n",
    "df = pd.read_csv(\"C:\\\\Users\\\\Lenovo\\\\Downloads\\\\Spotify+Streaming+History\\\\spotify_history.csv\")"
   ]
  },
  {
   "cell_type": "code",
   "execution_count": null,
   "id": "d0ed8b2a",
   "metadata": {},
   "outputs": [],
   "source": [
    "#AVERAGE PLAY TIME\n",
    "average_play_time = np.mean(df['ms_played'])\n",
    "print(f\" Average Play Time: {average_play_time / 1000:.2f} seconds\")"
   ]
  },
  {
   "cell_type": "code",
   "execution_count": null,
   "id": "e980cb2a",
   "metadata": {},
   "outputs": [],
   "source": [
    "# Top 5 most played tracks\n",
    "top_tracks = df.groupby('track_name')['ms_played'].sum().sort_values(ascending=False).head()\n",
    "print(\"\\n Top 5 Most Played Tracks:\")\n",
    "print(top_tracks)"
   ]
  },
  {
   "cell_type": "code",
   "execution_count": null,
   "id": "8db52583",
   "metadata": {},
   "outputs": [],
   "source": [
    "# Missing values\n",
    "print(\"\\n Missing Values:\")\n",
    "print(df.isnull().sum())"
   ]
  },
  {
   "cell_type": "code",
   "execution_count": null,
   "id": "ac5ec5d1",
   "metadata": {},
   "outputs": [],
   "source": [
    "# Fill missing reasons with 'unknown'\n",
    "df['reason_start'] = df['reason_start'].fillna('unknown')\n",
    "df['reason_end'] = df['reason_end'].fillna('unknown')"
   ]
  },
  {
   "cell_type": "code",
   "execution_count": null,
   "id": "b16a0399",
   "metadata": {},
   "outputs": [],
   "source": [
    "# Drop duplicates\n",
    "df.drop_duplicates(inplace=True)"
   ]
  },
  {
   "cell_type": "code",
   "execution_count": null,
   "id": "7b33f3bf",
   "metadata": {},
   "outputs": [],
   "source": [
    "# Top 10 Artists by Total Listening Time\n",
    "top_artists = df.groupby('artist_name')['ms_played'].sum().sort_values(ascending=False).head(10) / 60000\n",
    "sns.barplot(x=top_artists.values, y=top_artists.index, hue=top_artists.index, palette='magma', dodge=False, legend=False)\n",
    "plt.title(\" Top 10 Artists by Listening Time (Minutes)\")\n",
    "plt.xlabel(\"Listening Time (min)\")\n",
    "plt.show()"
   ]
  },
  {
   "cell_type": "code",
   "execution_count": null,
   "id": "5f1b9a41",
   "metadata": {},
   "outputs": [],
   "source": [
    "# Which Artists Get Skipped Most?\n",
    "skipped_artists = df[df['skipped']].groupby('artist_name').size().sort_values(ascending=False).head(10)\n",
    "sns.barplot(x=skipped_artists.values, y=skipped_artists.index, hue=skipped_artists.index, palette='Reds')\n",
    "plt.title(\" Most Skipped Artists\")\n",
    "plt.xlabel(\"Skip Count\")\n",
    "plt.show()"
   ]
  },
  {
   "cell_type": "code",
   "execution_count": null,
   "id": "c24c484d",
   "metadata": {},
   "outputs": [],
   "source": [
    "# Listening Duration When Shuffle is ON vs OFF\n",
    "sns.boxplot(x='shuffle', y='ms_played', data=df, hue='shuffle', palette='Set2')\n",
    "plt.yscale('log')\n",
    "plt.title(\" Listening Time vs. Shuffle Mode\")\n",
    "plt.ylabel(\"Milliseconds Played (log scale)\")\n",
    "plt.xlabel(\"Shuffle Mode\")\n",
    "plt.show()"
   ]
  },
  {
   "cell_type": "code",
   "execution_count": null,
   "id": "359261fc",
   "metadata": {},
   "outputs": [],
   "source": [
    "# Skip Rate by Shuffle Mode\n",
    "shuffle_skip_rate = df.groupby('shuffle')['skipped'].mean()\n",
    "sns.barplot(x=shuffle_skip_rate.index, y=shuffle_skip_rate.values, hue=shuffle_skip_rate, palette='Set1')\n",
    "plt.title(\"Skip Rate vs. Shuffle Mode\")\n",
    "plt.ylabel(\"Skip Rate\")\n",
    "plt.xticks([0,1], ['Shuffle OFF', 'Shuffle ON'])\n",
    "plt.show()"
   ]
  },
  {
   "cell_type": "code",
   "execution_count": null,
   "id": "f8c8d525",
   "metadata": {},
   "outputs": [],
   "source": [
    "# DISTRIBUTION OF TRACK PLAY DURATION\n",
    "plt.style.use('dark_background')\n",
    "plt.figure(figsize=(12, 6))\n",
    "sns.histplot(df['ms_played'], bins=50, kde=True, color='#00FEC6', edgecolor='#00FFAA', linewidth=1.5)\n",
    "plt.title(' Distribution of Track Play Durations (Log Scale)', fontsize=16, fontweight='bold', color='white')\n",
    "plt.xlabel('Milliseconds Played (Log Scale)', fontsize=13, color='white')\n",
    "plt.ylabel('Number of Plays', fontsize=13, color='white')\n",
    "plt.xticks(color='white')\n",
    "plt.yticks(color='white')\n",
    "plt.grid(color='gray', linestyle='--', linewidth=0.5)\n",
    "plt.tight_layout()\n",
    "plt.show()"
   ]
  },
  {
   "cell_type": "code",
   "execution_count": null,
   "id": "1e009357",
   "metadata": {},
   "outputs": [],
   "source": [
    "# Compute correlation matrix\n",
    "correlation_matrix = df.corr(numeric_only=True)\n",
    "plt.figure(figsize=(10, 6))\n",
    "sns.heatmap(correlation_matrix, annot=True, cmap='coolwarm', fmt='.2f', linewidths=0.5, linecolor='gray', cbar=True)\n",
    "plt.title(\" Correlation Matrix\", fontsize=16, fontweight='bold', color='white')\n",
    "plt.xticks(color='white')\n",
    "plt.yticks(color='white')\n",
    "plt.tight_layout()\n",
    "plt.show()"
   ]
  },
  {
   "cell_type": "code",
   "execution_count": null,
   "id": "f0b046bf",
   "metadata": {},
   "outputs": [],
   "source": [
    "# Compute covariance matrix\n",
    "covariance_matrix = df.cov(numeric_only=True)\n",
    "print(\" Covariance Matrix:\\n\")\n",
    "print(covariance_matrix.round(2))"
   ]
  }
 ],
 "metadata": {
  "kernelspec": {
   "display_name": "Python 3",
   "language": "python",
   "name": "python3"
  },
  "language_info": {
   "name": "python",
   "version": "3.x"
  }
 },
 "nbformat": 4,
 "nbformat_minor": 5
}
